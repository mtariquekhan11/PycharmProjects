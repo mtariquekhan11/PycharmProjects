{
 "cells": [
  {
   "cell_type": "markdown",
   "metadata": {},
   "source": [
    "# This project is to make a Simple calculator"
   ]
  },
  {
   "cell_type": "code",
   "execution_count": 1,
   "metadata": {},
   "outputs": [],
   "source": [
    "import cmath"
   ]
  },
  {
   "cell_type": "code",
   "execution_count": null,
   "metadata": {},
   "outputs": [],
   "source": [
    "condition = \"True\"\n",
    "while condition is \"True\":\n",
    "    def su (a, b):\n",
    "        return a + b\n",
    "    \n",
    "    \n",
    "    def subt (a, b):\n",
    "        return a - b\n",
    "    \n",
    "    \n",
    "    def mult (a, b):\n",
    "        return a * b\n",
    "    \n",
    "    \n",
    "    def div (a, b):\n",
    "        return a / b\n",
    "    \n",
    "    \n",
    "    def perc (a, b):\n",
    "        return (a / 100) * b"
   ]
  },
  {
   "cell_type": "code",
   "execution_count": null,
   "metadata": {},
   "outputs": [],
   "source": [
    "    print (\"Select the respective digit for operation: \")\n",
    "    print (\"1 for Addition:\")\n",
    "    print (\"2 for Subtraction:\")\n",
    "    print (\"3 for Multiplication:\")\n",
    "    print (\"4 for Division:\")\n",
    "    print (\"5 for Percentage:\")"
   ]
  },
  {
   "cell_type": "code",
   "execution_count": null,
   "metadata": {},
   "outputs": [],
   "source": [
    "    choice= int(input(\"Enter your choice 1/2/3/4/5: \"))"
   ]
  },
  {
   "cell_type": "code",
   "execution_count": null,
   "metadata": {},
   "outputs": [],
   "source": [
    "    a= float(input(\"Enter the first number: \"))\n",
    "    b= float(input(\"Enter the second number: \"))"
   ]
  },
  {
   "cell_type": "code",
   "execution_count": null,
   "metadata": {},
   "outputs": [],
   "source": [
    "    if choice == 1:\n",
    "        #print (a \"+\" b \"=\", su(a,b))\n",
    "        print (\"a+b=\", su(a,b))\n",
    "\n",
    "    elif choice == 2:\n",
    "        #print (a \"-\" b \"=\", subt(a,b))\n",
    "        print (\"a-b=\", subt(a,b))\n",
    "\n",
    "    elif choice == 3:\n",
    "        #print (a \"*\" b \"=\", mult(a,b))\n",
    "        print (\"a*b=\", mult(a,b))\n",
    "\n",
    "    elif choice == 4:\n",
    "        #print (a \"/\" b \"=\", div(a,b))\n",
    "        print (\"a/b=\", div(a,b))\n",
    "\n",
    "    elif choice == 5:\n",
    "        #print (a \"%\" b \"=\", perc(a,b))\n",
    "        print (\"a%b=\", perc(a,b))\n",
    "\n",
    "    elif choice != 5 or choice != 4 or choice != 3 or choice != 2 or choice != 1:\n",
    "        print (\"Invalid Input\")\n",
    "\n",
    "\n",
    "\n",
    "    "
   ]
  },
  {
   "cell_type": "code",
   "execution_count": null,
   "metadata": {},
   "outputs": [],
   "source": [
    "condition1 = input(\"Do you want to check more numbers, Press y/Y \")\n",
    "    if condition1 == \"y\" or condition1 == \"Y\":\n",
    "        condition = \"True\"\n",
    "    else:\n",
    "        break"
   ]
  }
 ],
 "metadata": {
  "kernelspec": {
   "display_name": "Python 3",
   "language": "python",
   "name": "python3"
  },
  "language_info": {
   "codemirror_mode": {
    "name": "ipython",
    "version": 3
   },
   "file_extension": ".py",
   "mimetype": "text/x-python",
   "name": "python",
   "nbconvert_exporter": "python",
   "pygments_lexer": "ipython3",
   "version": "3.7.4"
  }
 },
 "nbformat": 4,
 "nbformat_minor": 2
}
